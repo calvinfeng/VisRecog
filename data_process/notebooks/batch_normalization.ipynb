{
 "cells": [
  {
   "cell_type": "markdown",
   "metadata": {},
   "source": [
    "# Batch Normalization\n",
    "## Unit Gaussian Activations\n",
    "\n",
    "So if you really want unit Gaussian activations, you can make them so by applying batch normalization to every layer. Let's consider a batch of activations at some layer, we can make each dimension (denoted by $k$) unit Gaussian by applying: \n",
    "\n",
    "$$\n",
    "\\hat{x}^{(k)} = \\frac{x^{(k)} - E[x^{(k)}]}{\\sqrt{Var[x^{(k)}]}}\n",
    "$$\n",
    "\n",
    "Each batch of training example has dimension `D`. Compute the empirical mean and variance independently for each dimension by using all the training data.\n",
    "\n",
    "For example:"
   ]
  },
  {
   "cell_type": "code",
   "execution_count": 10,
   "metadata": {
    "collapsed": false
   },
   "outputs": [
    {
     "name": "stdout",
     "output_type": "stream",
     "text": [
      "[ 1.          0.96666667  0.83333333]\n",
      "[ 0.          0.00222222  0.05555556]\n"
     ]
    }
   ],
   "source": [
    "import numpy as np\n",
    "\n",
    "# We have three training activation examples and each example has a dimension of 3\n",
    "activations = np.array([[1, 0.9, 1],[1, 1, 1],[1, 1, 0.5]])\n",
    "\n",
    "print activations.mean(axis=0)\n",
    "print activations.var(axis=0)"
   ]
  },
  {
   "cell_type": "markdown",
   "metadata": {},
   "source": [
    "## Avoid Constraints by Learning\n",
    "\n",
    "If we have a tanh layer, we don't really want to constraint it to the linear regime. The act of normalization might force us to stay within the center, which is known as the linear regime. We want flexibility so ideally we should learn batch normalization as a paramter of the network. In other words, we should insert a parameter which can be learned to effectively cancel out batch normalization if the network sees fit."
   ]
  },
  {
   "cell_type": "code",
   "execution_count": null,
   "metadata": {
    "collapsed": true
   },
   "outputs": [],
   "source": []
  }
 ],
 "metadata": {
  "kernelspec": {
   "display_name": "Python 2",
   "language": "python",
   "name": "python2"
  },
  "language_info": {
   "codemirror_mode": {
    "name": "ipython",
    "version": 2
   },
   "file_extension": ".py",
   "mimetype": "text/x-python",
   "name": "python",
   "nbconvert_exporter": "python",
   "pygments_lexer": "ipython2",
   "version": "2.7.6"
  }
 },
 "nbformat": 4,
 "nbformat_minor": 0
}
