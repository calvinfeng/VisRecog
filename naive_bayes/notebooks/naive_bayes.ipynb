{
 "cells": [
  {
   "cell_type": "markdown",
   "metadata": {},
   "source": [
    "# Naive Bayesian Network \n",
    "\n",
    "## Introduction\n",
    "Let's classify some spam emails!\n",
    "\n",
    "\n"
   ]
  },
  {
   "cell_type": "markdown",
   "metadata": {},
   "source": [
    "## Definitions"
   ]
  },
  {
   "cell_type": "markdown",
   "metadata": {},
   "source": [
    "$$\n",
    "P(SPAM=1) = \\frac{\\texttt{# of emails that are spam}}{\\texttt{# of emails in the data set}}\n",
    "$$ \n",
    "\n",
    "$$\n",
    "P(SPAM=1\\mid OFFER=1) := \\frac{\\texttt{# of emails that are spam and contain the word \"offer\"}}{\\texttt{# of emails that contain the word \"offer\"}}\n",
    "$$"
   ]
  },
  {
   "cell_type": "markdown",
   "metadata": {},
   "source": [
    "## Hypothesis"
   ]
  },
  {
   "cell_type": "markdown",
   "metadata": {},
   "source": [
    "$$\n",
    "P(OFFER =1 \\mid SPAM=1)  > P(OFFER = 1 \\mid SPAM=0)\n",
    "$$\n",
    "\n",
    "If given a spam email, the probability of that it contains the word *offer* is higher than the probability of that it does NOT contain the word *offer*, then we can infer that:\n",
    "\n",
    "$$\n",
    "P(SPAM=1 \\mid OFFER=1) > P(SPAM = 1)\n",
    "$$"
   ]
  },
  {
   "cell_type": "markdown",
   "metadata": {},
   "source": [
    "## Proofs"
   ]
  },
  {
   "cell_type": "markdown",
   "metadata": {},
   "source": [
    "$$ \\begin{align}\n",
    "P(SPAM=1 \\mid OFFER=1) = \\frac{P(SPAM=1) P(OFFER=1 \\mid SPAM=1)}{P(OFFER=1)} \\\\\n",
    "= \\frac{\\frac{\\texttt{# of SPAM emails}}{\\texttt{# of total emails}}\\frac{\\texttt{# of SPAM emails with the word OFFER}}{\\texttt{# of SPAM emails}}}{\\frac{\\texttt{# of emails with the word OFFER}}{\\texttt{# of total emails}}}\\\\\n",
    "= \\frac{\\texttt{# of SPAM emails with the word OFFER}}{\\texttt{# of emails with the word OFFER}}\\\\\n",
    "= P(SPAM=1 \\mid OFFER=1)\\\\\n",
    "\\end{align}\n",
    "$$\n"
   ]
  },
  {
   "cell_type": "markdown",
   "metadata": {},
   "source": [
    "## Bayes' Rule"
   ]
  },
  {
   "cell_type": "markdown",
   "metadata": {},
   "source": [
    "$$\n",
    "P(SPAM=0 \\mid OFFER=1) = \\frac{P(SPAM=0)P(OFFER=1 \\mid SPAM=0)}{P(OFFER=1)} \\\\\n",
    "$$\n",
    "\n"
   ]
  },
  {
   "cell_type": "code",
   "execution_count": null,
   "metadata": {
    "collapsed": true
   },
   "outputs": [],
   "source": []
  }
 ],
 "metadata": {
  "kernelspec": {
   "display_name": "Python 2",
   "language": "python",
   "name": "python2"
  },
  "language_info": {
   "codemirror_mode": {
    "name": "ipython",
    "version": 2
   },
   "file_extension": ".py",
   "mimetype": "text/x-python",
   "name": "python",
   "nbconvert_exporter": "python",
   "pygments_lexer": "ipython2",
   "version": "2.7.12"
  }
 },
 "nbformat": 4,
 "nbformat_minor": 0
}
