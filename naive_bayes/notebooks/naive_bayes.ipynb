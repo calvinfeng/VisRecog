{
 "cells": [
  {
   "cell_type": "markdown",
   "metadata": {},
   "source": [
    "# Naive Bayesian Network \n",
    "\n",
    "## Introduction\n",
    "Let's classify some spam emails!\n",
    "\n",
    "\n"
   ]
  },
  {
   "cell_type": "markdown",
   "metadata": {},
   "source": [
    "## Definitions"
   ]
  },
  {
   "cell_type": "markdown",
   "metadata": {},
   "source": [
    "$$\n",
    "P(SPAM=1) = \\frac{\\texttt{# of emails that are spam}}{\\texttt{# of emails in the data set}}\n",
    "$$ \n",
    "\n",
    "$$\n",
    "P(SPAM=1\\mid OFFER=1) := \\frac{\\texttt{# of emails that are spam and contain the word \"offer\"}}{\\texttt{# of emails that contain the word \"offer\"}}\n",
    "$$"
   ]
  },
  {
   "cell_type": "markdown",
   "metadata": {},
   "source": [
    "## Hypothesis"
   ]
  },
  {
   "cell_type": "markdown",
   "metadata": {},
   "source": [
    "$$\n",
    "P(OFFER =1 \\mid SPAM=1)  > P(OFFER = 1 \\mid SPAM=0)\n",
    "$$\n",
    "\n",
    "If given a spam email, the probability of that it contains the word *offer* is higher than the probability of that it does NOT contain the word *offer*, then we can infer that:\n",
    "\n",
    "$$\n",
    "P(SPAM=1 \\mid OFFER=1) > P(SPAM = 1)\n",
    "$$"
   ]
  },
  {
   "cell_type": "markdown",
   "metadata": {},
   "source": [
    "## Proofs"
   ]
  },
  {
   "cell_type": "markdown",
   "metadata": {},
   "source": [
    "$$ \\begin{align}\n",
    "P(SPAM=1 \\mid OFFER=1) = \\frac{P(SPAM=1) P(OFFER=1 \\mid SPAM=1)}{P(OFFER=1)} \\\\\n",
    "= \\frac{\\frac{\\texttt{# of SPAM emails}}{\\texttt{# of total emails}}\\frac{\\texttt{# of SPAM emails with the word OFFER}}{\\texttt{# of SPAM emails}}}{\\frac{\\texttt{# of emails with the word OFFER}}{\\texttt{# of total emails}}}\\\\\n",
    "= \\frac{\\texttt{# of SPAM emails with the word OFFER}}{\\texttt{# of emails with the word OFFER}}\\\\\n",
    "= P(SPAM=1 \\mid OFFER=1)\\\\\n",
    "\\end{align}\n",
    "$$\n"
   ]
  },
  {
   "cell_type": "markdown",
   "metadata": {},
   "source": [
    "## Bayes' Rule"
   ]
  },
  {
   "cell_type": "markdown",
   "metadata": {},
   "source": [
    "$$\n",
    "P(SPAM=0 \\mid OFFER=1) = \\frac{P(SPAM=0)P(OFFER=1 \\mid SPAM=0)}{P(OFFER=1)} \\\\\n",
    "$$\n",
    "\n"
   ]
  },
  {
   "cell_type": "code",
   "execution_count": 2,
   "metadata": {
    "collapsed": false
   },
   "outputs": [
    {
     "name": "stdout",
     "output_type": "stream",
     "text": [
      "Dataset already processed!\n",
      "Code: 3751\n",
      "Ham count: 3672\n",
      "Spam count: 1500\n",
      "Code count: {'spam_count': 141, 'ham_count': 61}\n",
      "Prob ratio: 5.65849180328\n"
     ]
    }
   ],
   "source": [
    "from naive_bayes.email_set import EmailSet\n",
    "from naive_bayes.email_set import build_and_save_email_set\n",
    "from naive_bayes.feature_prob import FeatureProbability\n",
    "\n",
    "# If you haven't pickled it, then run \n",
    "build_and_save_email_set()\n",
    "\n",
    "es = EmailSet.get()\n",
    "fp = FeatureProbability.from_email_set(es)\n",
    "\n",
    "code = es.word_encoding_dictionary.word_to_code(\"offer\")\n",
    "print \"Code: %s\" % code\n",
    "print \"Ham count: %s\" % fp.class_count.ham_count\n",
    "print \"Spam count: %s\" % fp.class_count.spam_count\n",
    "print \"Code count: %s\" % fp.code_count[code]\n",
    "print \"Prob ratio: %s\" % fp.code_prob_ratio(code)"
   ]
  },
  {
   "cell_type": "code",
   "execution_count": null,
   "metadata": {
    "collapsed": true
   },
   "outputs": [],
   "source": []
  }
 ],
 "metadata": {
  "kernelspec": {
   "display_name": "Python 2",
   "language": "python",
   "name": "python2"
  },
  "language_info": {
   "codemirror_mode": {
    "name": "ipython",
    "version": 2
   },
   "file_extension": ".py",
   "mimetype": "text/x-python",
   "name": "python",
   "nbconvert_exporter": "python",
   "pygments_lexer": "ipython2",
   "version": "2.7.12"
  }
 },
 "nbformat": 4,
 "nbformat_minor": 0
}
