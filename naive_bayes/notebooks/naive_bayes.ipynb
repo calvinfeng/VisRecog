{
 "cells": [
  {
   "cell_type": "markdown",
   "metadata": {
    "deletable": true,
    "editable": true
   },
   "source": [
    "# Naive Bayesian Network \n",
    "\n",
    "## Introduction\n",
    "Let's classify some spam emails!\n",
    "\n",
    "\n"
   ]
  },
  {
   "cell_type": "markdown",
   "metadata": {
    "deletable": true,
    "editable": true
   },
   "source": [
    "## Mathematics\n",
    "### Definitions\n",
    "\n",
    "Let's define $N$ to be the number of total emails we have in the dataset and $N_{s}$ to be the number of spam emails in the email set.\n",
    "\n",
    "$N_{so}$ is the number of spam emails that contain the word \"offer\"\n",
    "\n",
    "$N_{o}$ is the number of emails that contain the word \"offer\""
   ]
  },
  {
   "cell_type": "markdown",
   "metadata": {
    "deletable": true,
    "editable": true
   },
   "source": [
    "Then the probability of having a spam email in the set is said to be:\n",
    "\n",
    "$$\n",
    "P(SPAM=1) = \\frac{N_{s}}{N}\n",
    "$$ \n",
    "\n",
    "And the probability of having an email that contains the word *offer* is:\n",
    "\n",
    "$$\n",
    "P(OFFER=1) = \\frac{N_{o}}{N}\n",
    "$$\n",
    "\n",
    "Finally, the conditional probability of an email being a spam email given that it contains the word *offer*:\n",
    "\n",
    "$$\n",
    "P(SPAM=1\\mid OFFER=1) := \\frac{N_{so}}{N_{o}}\n",
    "$$"
   ]
  },
  {
   "cell_type": "markdown",
   "metadata": {
    "deletable": true,
    "editable": true
   },
   "source": [
    "### Postulate"
   ]
  },
  {
   "cell_type": "markdown",
   "metadata": {
    "deletable": true,
    "editable": true
   },
   "source": [
    "If the probability of finding the word *offer* given that it's a spam email is higher than that of finding the word *offer* in a non-spam email:\n",
    "\n",
    "$$\n",
    "P(OFFER =1 \\mid SPAM=1)  > P(OFFER = 1 \\mid SPAM=0)\n",
    "$$\n",
    "\n",
    "then we can infer that:\n",
    "\n",
    "$$\n",
    "P(SPAM=1 \\mid OFFER=1) > P(SPAM = 1)\n",
    "$$"
   ]
  },
  {
   "cell_type": "markdown",
   "metadata": {
    "deletable": true,
    "editable": true
   },
   "source": [
    "### Proof"
   ]
  },
  {
   "cell_type": "markdown",
   "metadata": {
    "deletable": true,
    "editable": true
   },
   "source": [
    "$$\n",
    "P(SPAM=1 \\mid OFFER=1) = \\frac{P(OFFER=1 \\mid SPAM=1)P(SPAM=1)}{P(OFFER=1)} = \\frac{\\frac{N_{so}}{N_{s}}\\frac{N_{s}}{N}}{\\frac{N_{o}}{N}} = \\frac{N_{so}}{N_{o}}\n",
    "$$\n"
   ]
  },
  {
   "cell_type": "markdown",
   "metadata": {
    "deletable": true,
    "editable": true
   },
   "source": [
    "This is known as the **Bayes' rule**, famously stated as $P(A \\mid B)=\\frac{P(B \\mid A)P(A)}{P(B)}$"
   ]
  },
  {
   "cell_type": "markdown",
   "metadata": {
    "deletable": true,
    "editable": true
   },
   "source": [
    "$$\n",
    "P(SPAM=0 \\mid OFFER=1) = \\frac{P(OFFER=1 \\mid SPAM=0)P(SPAM=0)}{P(OFFER=1)} \\\\\n",
    "P(SPAM=1 \\mid OFFER=1) = \\frac{P(OFFER=1 \\mid SPAM=1)P(SPAM=1)}{P(OFFER=1)}\n",
    "$$\n",
    "\n"
   ]
  },
  {
   "cell_type": "markdown",
   "metadata": {},
   "source": [
    "For abbreviation, let's define that:\n",
    "\n",
    "$$\n",
    "P(SPAM=1) := P(S) \\\\\n",
    "P(OFFER=1 \\mid SPAM=1) := P(O \\mid S) \\\\\n",
    "P(OFFER=1 \\mid SPAM=0) := P(O \\mid S_{c}) \\\\\n",
    "P(SPAM=1 \\mid OFFER=1):= P(S \\mid O)\n",
    "$$"
   ]
  },
  {
   "cell_type": "markdown",
   "metadata": {},
   "source": [
    "Begin with\n",
    "\n",
    "$$\n",
    "P(O \\mid S) > P(O \\mid S_{c})\n",
    "$$\n",
    "\n",
    "Rewrite them using **Bayes' rule**:\n",
    "\n",
    "$$\n",
    "\\frac{P(S \\mid O) P(O)}{P(S)} > \\frac{P(S_{c} \\mid O)P(O)}{P(S_{c})}\n",
    "$$\n",
    "\n",
    "The $P(O)$ terms cancel out each other:\n",
    "\n",
    "$$\n",
    "\\frac{P(S \\mid O)}{P(S)} > \\frac{P(S_{c} \\mid O)}{P(S_{c})}\n",
    "$$\n",
    "\n",
    "By definition, we can rewrite the right hand side as the following:\n",
    "\n",
    "$$\n",
    "\\frac{P(S \\mid O)}{P(S)} > \\frac{1 - P(S \\mid O)}{1 - P(S)}\n",
    "$$\n",
    "\n",
    "Re-organize the terms:\n",
    "\n",
    "$$\n",
    "\\frac{1 - P(S)}{P(S)} > \\frac{1 - P(S \\mid O)}{P(S \\mid O)}\n",
    "$$\n",
    "\n",
    "Then we can easily see that:\n",
    "\n",
    "$$\n",
    "\\frac{1}{P(S)} - 1 > \\frac{1}{P(S \\mid O)} - 1 \\\\\n",
    "\\frac{1}{P(S)} > \\frac{1}{P(S \\mid O)} \\\\\n",
    "$$\n",
    "\n",
    "**Q.E.D.**\n",
    "$$\n",
    "P(S \\mid O) > P(S)\n",
    "$$"
   ]
  },
  {
   "cell_type": "code",
   "execution_count": 2,
   "metadata": {
    "collapsed": false,
    "deletable": true,
    "editable": true
   },
   "outputs": [
    {
     "name": "stdout",
     "output_type": "stream",
     "text": [
      "Dataset already processed!\n",
      "Code: 3751\n",
      "Ham count: 3672\n",
      "Spam count: 1500\n",
      "Code count: {'spam_count': 141, 'ham_count': 61}\n",
      "Prob ratio: 5.65849180328\n"
     ]
    }
   ],
   "source": [
    "from naive_bayes.email_set import EmailSet\n",
    "from naive_bayes.email_set import build_and_save_email_set\n",
    "from naive_bayes.feature_prob import FeatureProbability\n",
    "\n",
    "# If you haven't pickled it, then run \n",
    "build_and_save_email_set()\n",
    "\n",
    "es = EmailSet.get()\n",
    "fp = FeatureProbability.from_email_set(es)\n",
    "\n",
    "code = es.word_encoding_dictionary.word_to_code(\"offer\")\n",
    "print \"Code: %s\" % code\n",
    "print \"Ham count: %s\" % fp.class_count.ham_count\n",
    "print \"Spam count: %s\" % fp.class_count.spam_count\n",
    "print \"Code count: %s\" % fp.code_count[code]\n",
    "print \"Prob ratio: %s\" % fp.code_prob_ratio(code)"
   ]
  },
  {
   "cell_type": "code",
   "execution_count": null,
   "metadata": {
    "collapsed": true,
    "deletable": true,
    "editable": true
   },
   "outputs": [],
   "source": []
  }
 ],
 "metadata": {
  "kernelspec": {
   "display_name": "Python 2",
   "language": "python",
   "name": "python2"
  },
  "language_info": {
   "codemirror_mode": {
    "name": "ipython",
    "version": 2
   },
   "file_extension": ".py",
   "mimetype": "text/x-python",
   "name": "python",
   "nbconvert_exporter": "python",
   "pygments_lexer": "ipython2",
   "version": "2.7.12"
  }
 },
 "nbformat": 4,
 "nbformat_minor": 0
}
